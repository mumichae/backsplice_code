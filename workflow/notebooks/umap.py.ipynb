{
 "cells": [
  {
   "cell_type": "code",
   "execution_count": null,
   "metadata": {
    "collapsed": true
   },
   "outputs": [],
   "source": [
    "import umap\n",
    "import pandas as pd\n",
    "import numpy as np\n",
    "import matplotlib.pyplot as plt"
   ]
  },
  {
   "cell_type": "code",
   "execution_count": null,
   "outputs": [],
   "source": [
    "train_data = pd.read_json(snakemake.input.train, lines=True)\n",
    "test_data = pd.read_json(snakemake.input.test, lines=True)"
   ],
   "metadata": {
    "collapsed": false,
    "pycharm": {
     "name": "#%%\n"
    }
   }
  },
  {
   "cell_type": "code",
   "execution_count": null,
   "outputs": [],
   "source": [
    "def pad(x):\n",
    "    y = np.zeros(4 * 128, dtype=np.int32)\n",
    "    RL = min(len(x), 4 * 128)\n",
    "    y[:RL] = x[:RL]\n",
    "    return y\n",
    "\n",
    "\n",
    "def flatten_features(series, data, label):\n",
    "    df = pd.DataFrame.from_records(series.apply(lambda x: np.ravel(x)).apply(pad).values)\n",
    "    df['data'] = data\n",
    "    df['label'] = label\n",
    "    return df"
   ],
   "metadata": {
    "collapsed": false,
    "pycharm": {
     "name": "#%%\n"
    }
   }
  },
  {
   "cell_type": "code",
   "execution_count": null,
   "outputs": [],
   "source": [
    "all_acceptors = pd.concat(\n",
    "    [\n",
    "        flatten_features(train_data['acceptor'], 'train', train_data['label']),\n",
    "        flatten_features(test_data['acceptor'], 'test', test_data['label'])\n",
    "    ]\n",
    ")\n",
    "X_acc = all_acceptors.values[:, :-2]\n",
    "\n",
    "all_donors = pd.concat(\n",
    "    [\n",
    "        flatten_features(train_data['donor'], 'train', train_data['label']),\n",
    "        flatten_features(test_data['donor'], 'test', test_data['label'])\n",
    "    ]\n",
    ")\n",
    "X_don = all_donors.values[:, :-2]"
   ],
   "metadata": {
    "collapsed": false,
    "pycharm": {
     "name": "#%%\n"
    }
   }
  },
  {
   "cell_type": "code",
   "execution_count": null,
   "outputs": [],
   "source": [
    "reducer = umap.UMAP(n_components=3)"
   ],
   "metadata": {
    "collapsed": false,
    "pycharm": {
     "name": "#%%\n"
    }
   }
  },
  {
   "cell_type": "code",
   "execution_count": null,
   "outputs": [],
   "source": [
    "emb_acc = reducer.fit_transform(X_acc)\n",
    "emb_don = reducer.fit_transform(X_don)"
   ],
   "metadata": {
    "collapsed": false,
    "pycharm": {
     "name": "#%%\n"
    }
   }
  },
  {
   "cell_type": "code",
   "execution_count": null,
   "outputs": [],
   "source": [
    "figure, axis = plt.subplots(2, 2)\n",
    "\n",
    "axis[0, 0].scatter(\n",
    "    emb_acc[:, 0],\n",
    "    emb_acc[:, 1],\n",
    "    c=['navy' if x == 'train' else 'yellow' for x in all_acceptors['data']],\n",
    "    alpha=0.1,\n",
    "    s=1\n",
    ")\n",
    "axis[0, 0].sot_title('Acceptors by test/train')\n",
    "\n",
    "axis[0, 1].scatter(\n",
    "    emb_acc[:, 0],\n",
    "    emb_acc[:, 1],\n",
    "    c=all_acceptors['label'],\n",
    "    alpha=0.1,\n",
    "    s=1\n",
    ")\n",
    "axis[0, 1].sot_title('Acceptors by labels')\n",
    "\n",
    "axis[1, 0].scatter(\n",
    "    emb_don[:, 0],\n",
    "    emb_don[:, 1],\n",
    "    c=['navy' if x == 'train' else 'yellow' for x in all_donors['data']],\n",
    "    alpha=0.1,\n",
    "    s=1\n",
    ")\n",
    "axis[1, 0].sot_title('Acceptors by test/train')\n",
    "\n",
    "axis[1, 1].scatter(\n",
    "    emb_don[:, 0],\n",
    "    emb_don[:, 1],\n",
    "    c=all_donors['label'],\n",
    "    alpha=0.1,\n",
    "    s=1\n",
    ")\n",
    "axis[1, 1].sot_title('Acceptors by labels')"
   ],
   "metadata": {
    "collapsed": false,
    "pycharm": {
     "name": "#%%\n"
    }
   }
  },
  {
   "cell_type": "code",
   "execution_count": null,
   "outputs": [],
   "source": [
    "figure.savefig(snakemake.output['plot'], dpi=100)\n"
   ],
   "metadata": {
    "collapsed": false,
    "pycharm": {
     "name": "#%%\n"
    }
   }
  }
 ],
 "metadata": {
  "kernelspec": {
   "display_name": "Python 3",
   "language": "python",
   "name": "python3"
  },
  "language_info": {
   "codemirror_mode": {
    "name": "ipython",
    "version": 2
   },
   "file_extension": ".py",
   "mimetype": "text/x-python",
   "name": "python",
   "nbconvert_exporter": "python",
   "pygments_lexer": "ipython2",
   "version": "2.7.6"
  }
 },
 "nbformat": 4,
 "nbformat_minor": 0
}